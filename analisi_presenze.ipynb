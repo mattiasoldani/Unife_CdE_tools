{
 "cells": [
  {
   "cell_type": "code",
   "execution_count": 1,
   "metadata": {
    "jupyter": {
     "source_hidden": true
    }
   },
   "outputs": [],
   "source": [
    "import numpy as np\n",
    "import pandas as pd"
   ]
  },
  {
   "cell_type": "markdown",
   "metadata": {},
   "source": [
    "---\n",
    "\n",
    "### general settings"
   ]
  },
  {
   "cell_type": "code",
   "execution_count": 2,
   "metadata": {
    "jupyter": {
     "source_hidden": true
    },
    "tags": []
   },
   "outputs": [],
   "source": [
    "# year (as a string)\n",
    "yr = \"2099\"\n",
    "\n",
    "# registered students file\n",
    "registered = \"./raw_data/%s/corso_eccellenza_iscritti.csv\" % yr\n",
    "\n",
    "# list of files from different meetings, in chronological order\n",
    "attendees = {\n",
    "    \"2099\" : [\n",
    "        \"./raw_data/%s/participants_01234567890_1.csv\" % yr,  # meeting 0\n",
    "        \"./raw_data/%s/participants_01234567890_2.csv\" % yr,  # meeting 1\n",
    "        \"./raw_data/%s/participants_01234567890_3.csv\" % yr,  # meeting 2\n",
    "    ],\n",
    "}\n",
    "\n",
    "# minimum duration for \"long\" presence\n",
    "nMins = 10\n",
    "\n",
    "# list of codici meccanografici and corresponding institution names & locations (format: Name_Location)\n",
    "locations = {\n",
    "    'COPC020007' : \"Volta_Como\", \n",
    "    'FEPC020005' : \"Ariosto_Ferrara\", \n",
    "    'SS19510' : \"\",\n",
    "}"
   ]
  },
  {
   "cell_type": "markdown",
   "metadata": {},
   "source": [
    "---\n",
    "\n",
    "### data input and processing"
   ]
  },
  {
   "cell_type": "code",
   "execution_count": 3,
   "metadata": {
    "jupyter": {
     "source_hidden": true
    },
    "tags": []
   },
   "outputs": [
    {
     "name": "stdout",
     "output_type": "stream",
     "text": [
      "registered entries: 11\n"
     ]
    }
   ],
   "source": [
    "# load all the data\n",
    "df_attendees = {}\n",
    "if yr==\"2021\":\n",
    "    df_registered = pd.read_csv(registered, sep=\",\", names=[\"surname\", \"firstName\", \"institution\"])\n",
    "    for i, iName in enumerate(attendees[yr]):\n",
    "        df_attendees[i] = pd.read_csv(iName, sep=\",\", skiprows=1, names=[\"nickname\", \"mail\", \"t0\", \"t1\", \"duration\", \"guest\", \"consent\"])\n",
    "        df_attendees[i] = df_attendees[i].drop(columns=[\"t0\", \"t1\", \"guest\", \"consent\"])\n",
    "else:\n",
    "    df_registered = pd.read_csv(registered, sep=\",\", names=[\"timestamp\", \"mail_comms\", \"firstName\", \"surname\", \"nickname\", \"mail_zoom\", \"institution\", \"year\"])\n",
    "    for i, iName in enumerate(attendees[yr]):\n",
    "        df_attendees[i] = pd.read_csv(iName, sep=\",\", skiprows=4, names=[\"nickname\", \"mail\", \"t0\", \"t1\", \"duration\", \"guest\"])\n",
    "        df_attendees[i] = df_attendees[i].drop(columns=[\"t0\", \"t1\", \"guest\"])\n",
    "print(\"registered entries: %d\" % df_registered.shape[0])\n",
    "\n",
    "# data preparation -- df_registered\n",
    "if yr==\"2021\":\n",
    "    for s in [col for col in df_registered.columns.unique() if col!=\"institution\"]:\n",
    "        df_registered[s] = df_registered[s].str.lower()\n",
    "        df_registered[s] = df_registered[s].fillna(\"\")\n",
    "        df_registered[s] = df_registered[s].str.replace(\"\\t\", \" \")\n",
    "        if s==\"firstName\":\n",
    "            originalNamesBak = df_registered[s].copy()  # make a backup of the original names (cleaned fron nan and \\t signs) before removing the accents\n",
    "        df_registered[s] = df_registered[s].str.replace(\"à\", \"a\").str.replace(\"è\", \"e\").str.replace(\"ì\", \"i\").str.replace(\"ò\", \"o\").str.replace(\"ù\", \"u\")\n",
    "    df_registered[\"firstName1\"] = pd.Series([s[0] if len(s)>0 else \"\" for s in df_registered[\"firstName\"].str.split()])  # first of the names in the first name\n",
    "    df_registered[\"firstName2\"] = pd.Series([s[1] if len(s)>1 else \"~NONE~\" for s in df_registered[\"firstName\"].str.split()])  # second of the names in the first name\n",
    "else:\n",
    "    for s in [col for col in df_registered.columns.unique() if (col==\"firstName\")|(col==\"surname\")|(col==\"nickname\")|(col==\"email_zoom\")]:\n",
    "        df_registered[s] = df_registered[s].str.lower()\n",
    "        df_registered[s] = df_registered[s].fillna(\"\")\n",
    "        df_registered[s] = df_registered[s].str.replace(\"\\t\", \" \")\n",
    "        df_registered[s] = df_registered[s].str.rstrip()\n",
    "        if s==\"firstName\":\n",
    "            originalNamesBak = df_registered[s].copy()  # make a backup of the original names (cleaned fron nan and \\t signs) before removing the accents\n",
    "        if s==\"nickname\":\n",
    "            originalNicknamesBak = df_registered[s].copy()  # make a backup of the original names (cleaned fron nan and \\t signs) before removing the accents\n",
    "        df_registered[s] = df_registered[s].str.replace(\"à\", \"a\").str.replace(\"è\", \"e\").str.replace(\"ì\", \"i\").str.replace(\"ò\", \"o\").str.replace(\"ù\", \"u\")\n",
    "    df_registered[\"firstName1\"] = pd.Series([s[0] if len(s)>0 else \"\" for s in df_registered[\"firstName\"].str.split()])  # first of the names in the first name\n",
    "    df_registered[\"firstName2\"] = pd.Series([s[1] if len(s)>1 else \"~NONE~\" for s in df_registered[\"firstName\"].str.split()])  # second of the names in the first name\n",
    "    df_registered[\"institution\"] = df_registered[\"institution\"].str.upper()  # institution codes are all-uppercase\n",
    "    \n",
    "# data preparation -- df_attendees[X]\n",
    "for i in range(len(attendees[yr])):\n",
    "    for s in [s0 for s0 in df_attendees[i].columns.unique() if not (s0==\"duration\")]:\n",
    "        df_attendees[i][s] = df_attendees[i][s].str.lower()\n",
    "        df_attendees[i][s] = df_attendees[i][s].str.replace(\"à\", \"a\").str.replace(\"è\", \"e\").str.replace(\"ì\", \"i\").str.replace(\"ò\", \"o\").str.replace(\"ù\", \"u\")"
   ]
  },
  {
   "cell_type": "markdown",
   "metadata": {},
   "source": [
    "**settings** on manual nickname tweaking in attendees data:"
   ]
  },
  {
   "cell_type": "code",
   "execution_count": 4,
   "metadata": {
    "jupyter": {
     "source_hidden": true
    },
    "tags": []
   },
   "outputs": [],
   "source": [
    "# manual nickname tweaking (all lowercase)\n",
    "if yr==\"2099\":\n",
    "    for i in range(len(attendees[yr])):\n",
    "        df_attendees[i].loc[df_attendees[i].nickname==\"succo (succo)\", \"nickname\"] = df_attendees[i].nickname.apply(lambda s: s.replace(\"succo (succo)\", \"strosprobat\"))\n",
    "        df_attendees[i].loc[df_attendees[i].nickname==\"iphone di john\", \"nickname\"] = df_attendees[i].nickname.apply(lambda s: s.replace(\"iphone di john\", \"titor john\"))"
   ]
  },
  {
   "cell_type": "code",
   "execution_count": 5,
   "metadata": {
    "jupyter": {
     "source_hidden": true
    },
    "tags": []
   },
   "outputs": [],
   "source": [
    "# create all possible registered name combinations -- basic, more complex cases below...\n",
    "df_registered[\"surname-firstName\"] = df_registered.surname+\" \"+df_registered.firstName  # rossi mario luigi\n",
    "df_registered[\"firstName-surname\"] = df_registered.firstName+\" \"+df_registered.surname  # mario luigi rossi\n",
    "df_registered[\"surnamefirstName\"] = df_registered.surname.str.replace(\" \", \"\")+df_registered.firstName.str.replace(\" \", \"\")  # rossimarioluigi\n",
    "df_registered[\"firstNamesurname\"] = df_registered.firstName.str.replace(\" \", \"\")+df_registered.surname.str.replace(\" \", \"\")  # marioluigirossi\n",
    "\n",
    "df_registered[\"surname-firstName1\"] = df_registered.surname+\" \"+df_registered.firstName1  # rossi mario\n",
    "df_registered[\"firstName1-surname\"] = df_registered.firstName1+\" \"+df_registered.surname  # mario rossi\n",
    "df_registered[\"surnamefirstName1\"] = df_registered.surname.str.replace(\" \", \"\")+df_registered.firstName1.str.replace(\" \", \"\")  # rossimario\n",
    "df_registered[\"firstName1surname\"] = df_registered.firstName1.str.replace(\" \", \"\")+df_registered.surname.str.replace(\" \", \"\")  # mariorossi\n",
    "\n",
    "df_registered[\"surname-firstName2\"] = df_registered.surname+\" \"+df_registered.firstName2  # rossi luigi\n",
    "df_registered[\"firstName2-surname\"] = df_registered.firstName2+\" \"+df_registered.surname  # luigi rossi\n",
    "df_registered[\"surnamefirstName2\"] = df_registered.surname.str.replace(\" \", \"\")+df_registered.firstName2.str.replace(\" \", \"\")  # rossiluigi\n",
    "df_registered[\"firstName2surname\"] = df_registered.firstName2.str.replace(\" \", \"\")+df_registered.surname.str.replace(\" \", \"\")  # luigirossi"
   ]
  },
  {
   "cell_type": "code",
   "execution_count": 6,
   "metadata": {
    "jupyter": {
     "source_hidden": true
    }
   },
   "outputs": [],
   "source": [
    "# function to find presence to each meeting...\n",
    "if yr==\"2021\":\n",
    "    def check_presence(df_registered, df_attendees, i, nMins):\n",
    "        dfTemp = pd.DataFrame()\n",
    "        compare = list(df_attendees[i].nickname.unique()) if (nMins is None) else list(df_attendees[i][df_attendees[i].duration > nMins].nickname.unique())\n",
    "        compare = [s0 for s0 in compare if str(s0) != \"nan\"]\n",
    "        for s in [s0 for s0 in df_registered.columns.unique() if ((s0!=\"firstName\") & (s0!=\"firstName1\") & (s0!=\"firstName2\") & (s0!=\"surname\") & (s0!=\"institution\") & (not (\"presence\" in s0)))]:\n",
    "            dfTemp[s] = df_registered[s].apply(lambda x: any([str(x) in x0 for x0 in compare]))  # previously defined case looked for in list of attendees\n",
    "\n",
    "        # more particular cases: \"mario luigi\" & \"rossi\" inside more complicated nickname string\n",
    "        dfTemp[\"firstNameANDsurname\"] = df_registered.apply(lambda x: any([(str(x.surname) in x0 and str(x.firstName) in x0) for x0 in compare]), axis=1)\n",
    "        # more particular cases: \"mario\" & \"rossi\" inside more complicated nickname string\n",
    "        dfTemp[\"firstName1ANDsurname\"] = df_registered.apply(lambda x: any([(str(x.surname) in x0 and str(x.firstName1) in x0) for x0 in compare]), axis=1)\n",
    "        # more particular cases: \"luigi\" & \"rossi\" inside more complicated nickname string\n",
    "        dfTemp[\"firstName2ANDsurname\"] = df_registered.apply(lambda x: any([(str(x.surname) in x0 and str(x.firstName2) in x0) for x0 in compare]), axis=1)\n",
    "        # more particular cases: \"mario\" & \"luigi\" & \"rossi\" inside more complicated nickname string\n",
    "        dfTemp[\"firstName1ANDfirstName2ANDsurname\"] = df_registered.apply(lambda x: any([(str(x.surname) in x0 and str(x.firstName1) and str(x.firstName2) in x0) for x0 in compare]), axis=1)\n",
    "        # more particular cases: \"m.\" & \"rossi\" inside more complicated nickname string\n",
    "        dfTemp[\"firstName1ANDsurname_alsoInitials\"] = df_registered.apply(lambda x: any([(str(x.surname) in x0 and (str(x.firstName1)[0]+\".\" if len(x.firstName1)>0 else \"\") in x0) for x0 in compare]), axis=1)\n",
    "        # more particular cases: \"l.\" & \"rossi\" inside more complicated nickname string\n",
    "        dfTemp[\"firstName2ANDsurname_alsoInitials\"] = df_registered.apply(lambda x: any([(str(x.surname) in x0 and (str(x.firstName2)[0]+\".\" if len(x.firstName2)>0 else \"\") in x0) for x0 in compare]), axis=1)\n",
    "        # more particular cases: \"m.\" & \"l.\" & \"rossi\" inside more complicated nickname string\n",
    "        dfTemp[\"firstName1ANDfirstName2ANDsurname_alsoInitials\"] = df_registered.apply(lambda x: any([(str(x.surname) in x0 and (str(x.firstName1)[0]+\".\" if len(x.firstName1)>0 else \"\") and (str(x.firstName2)[0]+\".\" if len(x.firstName2)>0 else \"\") in x0) for x0 in compare]), axis=1)\n",
    "\n",
    "        outSeries = dfTemp.apply(any, axis=1)  # at least 1 case has to be true in the list of attendees\n",
    "        return outSeries, dfTemp\n",
    "else:\n",
    "    def check_presence(df_registered, df_attendees, i, nMins):\n",
    "        dfTemp = pd.DataFrame()\n",
    "        compare_nickname = list(df_attendees[i].nickname.unique()) if (nMins is None) else list(df_attendees[i][df_attendees[i].duration > nMins].nickname.unique())\n",
    "        compare_nickname = [s0 for s0 in compare_nickname if str(s0) != \"nan\"]\n",
    "        compare_mail = list(df_attendees[i].mail.unique()) if (nMins is None) else list(df_attendees[i][df_attendees[i].duration > nMins].mail.unique())\n",
    "        compare_mail = [s0 for s0 in compare_mail if str(s0) != \"nan\"]\n",
    "        dfTemp[\"nickname\"] = df_registered[\"nickname\"].apply(lambda x: any([str(x) in x0 for x0 in compare_nickname]))\n",
    "        dfTemp[\"mail\"] = df_registered[\"mail_zoom\"].apply(lambda x: any([str(x) in x0 for x0 in compare_mail]))\n",
    "        \n",
    "        # more particular cases: \"mario luigi\" & \"rossi\" inside more complicated nickname string\n",
    "        dfTemp[\"firstNameANDsurname\"] = df_registered.apply(lambda x: any([(str(x.surname) in x0 and str(x.firstName) in x0) for x0 in compare_nickname]), axis=1)\n",
    "\n",
    "        outSeries = dfTemp.apply(any, axis=1)  # at least 1 case has to be true in the list of attendees\n",
    "        return outSeries, dfTemp\n",
    "\n",
    "# ...applied to all the meetings\n",
    "for i in range(len(attendees[yr])):\n",
    "    df_registered[\"presence_\"+str(i)], _ = check_presence(df_registered, df_attendees, i, None)\n",
    "    df_registered[\"presence_long_\"+str(i)], _ = check_presence(df_registered, df_attendees, i, nMins)"
   ]
  },
  {
   "cell_type": "code",
   "execution_count": 7,
   "metadata": {
    "jupyter": {
     "source_hidden": true
    }
   },
   "outputs": [
    {
     "name": "stdout",
     "output_type": "stream",
     "text": [
      "found 1 multiple entries among registered students!\n",
      "registered entries without multiples: 10\n"
     ]
    }
   ],
   "source": [
    "# create output dataframe\n",
    "df_output0 = pd.DataFrame(originalNicknamesBak, columns=[\"nickname\"])\n",
    "df_output1 = pd.DataFrame(originalNamesBak, columns=[\"firstName\"])\n",
    "df_output2 = pd.DataFrame(df_registered, columns=[\"surname\", \"institution\"]+[\"presence_\"+str(i) for i in range(len(attendees[yr]))]+[\"presence_long_\"+str(i) for i in range(len(attendees[yr]))])\n",
    "df_output = pd.concat([df_output0.reset_index(drop=True), df_output1.reset_index(drop=True), df_output2.reset_index(drop=True)], axis=1)\n",
    "\n",
    "# re-capitalise all the names\n",
    "df_output[\"firstName\"] = df_output[\"firstName\"].str.title()\n",
    "df_output[\"surname\"] = df_output[\"surname\"].str.title()\n",
    "\n",
    "# from 2022 on: check for duplication conflicts and solve them\n",
    "if yr!=\"2021\":\n",
    "    df_output[\"isDuplicate\"] = df_output[[\"firstName\", \"surname\", \"institution\"]].duplicated(keep=False)\n",
    "    lsDuplicated = np.array([df_output[df_output.isDuplicate].firstName.to_list(), df_output[df_output.isDuplicate].surname.to_list(), df_output[df_output.isDuplicate].institution.to_list()]).T.tolist()\n",
    "    lsDuplicated = list(map(list, set(map(lambda i: tuple(i), lsDuplicated))))\n",
    "    print(\"found %d multiple entries among registered students!\" % len(lsDuplicated))\n",
    "    for duplicatedEntry in lsDuplicated:\n",
    "        df_output_temp = df_output[(df_output.firstName==duplicatedEntry[0]) & (df_output.surname==duplicatedEntry[1]) & (df_output.institution==duplicatedEntry[2])]\n",
    "        df_output_sol = df_output_temp.iloc[0].to_frame().transpose()\n",
    "        for presenceCol in [s for s in df_output_temp.columns if \"presence_\" in s]:\n",
    "            df_output_sol[presenceCol] = any(df_output_temp[presenceCol])\n",
    "        df_output_sol[\"isDuplicate\"] = False\n",
    "        df_output = pd.concat([df_output, df_output_sol])\n",
    "    df_output = df_output[~df_output.isDuplicate]\n",
    "    df_output = df_output.reset_index(drop=True)\n",
    "    print(\"registered entries without multiples: %d\" % df_output.shape[0])"
   ]
  },
  {
   "cell_type": "code",
   "execution_count": 8,
   "metadata": {
    "jupyter": {
     "source_hidden": true
    },
    "tags": []
   },
   "outputs": [
    {
     "name": "stdout",
     "output_type": "stream",
     "text": [
      "warning: SS19510 not in list of institution locations or empty entry!\n",
      "registered institutions: 3 (1 are LOCATION_MISSING)\n"
     ]
    }
   ],
   "source": [
    "# replace codice meccanografico with institution name & location\n",
    "if yr!=\"2021\":\n",
    "    for s in df_output.institution.unique():\n",
    "        if ((s in locations.keys()) & (locations[s] != \"\")):\n",
    "            df_output.loc[df_output.institution==s, \"institution_full\"] = locations[s]\n",
    "        else:\n",
    "            df_output.loc[df_output.institution==s, \"institution_full\"] = \"LOCATION_MISSING/%s\" % s\n",
    "            print(\"warning: %s not in list of institution locations or empty entry!\" % s)\n",
    "            \n",
    "lsLocationsFinal = df_output[\"institution\" if yr==\"2021\" else \"institution_full\"].unique()\n",
    "print(\"registered institutions: %d (%d are LOCATION_MISSING)\" % (len(lsLocationsFinal), len([s for s in lsLocationsFinal if \"LOCATION_MISSING\" in s])))"
   ]
  },
  {
   "cell_type": "markdown",
   "metadata": {},
   "source": [
    "---\n",
    "\n",
    "### single-meeting (online) analysis"
   ]
  },
  {
   "cell_type": "markdown",
   "metadata": {},
   "source": [
    "list of registered students absent at a certain meeting (selectable in the cell)"
   ]
  },
  {
   "cell_type": "code",
   "execution_count": 9,
   "metadata": {
    "jupyter": {
     "source_hidden": true
    },
    "tags": []
   },
   "outputs": [
    {
     "name": "stdout",
     "output_type": "stream",
     "text": [
      "no lecture selected, skipping this...\n"
     ]
    }
   ],
   "source": [
    "iMeeting = None  # index of the selected meeting; if None, skip this cell\n",
    "\n",
    "if not (iMeeting is None):\n",
    "    print(\"ABSENT AT LECTURE %d:\" % iMeeting)\n",
    "    dfBool = df_output[\"presence_%s\" % iMeeting]==False\n",
    "    for i, s in enumerate(df_output[dfBool].surname+\" \"+df_output[dfBool].firstName):\n",
    "        print(\"%3d\" % i, s)\n",
    "else:\n",
    "    print(\"no lecture selected, skipping this...\")"
   ]
  },
  {
   "cell_type": "markdown",
   "metadata": {},
   "source": [
    "**output file** list of presences (for >10 minutes) at a certain meeting &mdash; done for all meetings"
   ]
  },
  {
   "cell_type": "code",
   "execution_count": 10,
   "metadata": {
    "jupyter": {
     "source_hidden": true
    },
    "tags": []
   },
   "outputs": [
    {
     "name": "stdout",
     "output_type": "stream",
     "text": [
      "presence file written for lecture 0\n",
      "presence file written for lecture 1\n",
      "presence file written for lecture 2\n"
     ]
    }
   ],
   "source": [
    "for iMeeting in range(len(attendees[yr])):\n",
    "    nameMaxWidths = (df_output[\"surname\"].apply(lambda x : len(x)).max() + 2, df_output[\"surname\"].apply(lambda x : len(x)).max() + 3)\n",
    "    with open(\"./out_data/%s/presences_lecture%s.txt\" % (yr, iMeeting), \"w+\") as f:\n",
    "        for i in df_output.index:\n",
    "            rowName = (df_output[\"surname\"][i]+\",\", df_output[\"firstName\"][i]+\",\")\n",
    "            print(\"%4d,\" % i, \"\".join((val.ljust(width) for val, width in zip(rowName[0:2], nameMaxWidths))), \"\" if df_output[\"presence_long_%s\" % iMeeting][i] else \"absent\", file=f)\n",
    "    print(\"presence file written for lecture %s\" % iMeeting)"
   ]
  },
  {
   "cell_type": "markdown",
   "metadata": {},
   "source": [
    "---\n",
    "\n",
    "### final analysis"
   ]
  },
  {
   "cell_type": "markdown",
   "metadata": {},
   "source": [
    "number of lectures attended\n",
    "\n",
    "also **setting** manual tweaking to output data (only nLectures):"
   ]
  },
  {
   "cell_type": "code",
   "execution_count": 11,
   "metadata": {
    "jupyter": {
     "source_hidden": true
    },
    "tags": []
   },
   "outputs": [
    {
     "name": "stdout",
     "output_type": "stream",
     "text": [
      "nr. of attenders to 0 lectures = 1\n",
      "nr. of attenders to 1 lectures = 0\n",
      "nr. of attenders to 2 lectures = 5\n",
      "nr. of attenders to 3 lectures = 4\n"
     ]
    }
   ],
   "source": [
    "# add nr. of lectures attended\n",
    "lsPresences = [s for s in df_output.columns if \"presence_long_\" in s]\n",
    "df_output[\"nLectures\"] = df_output[lsPresences].sum(axis=1)\n",
    "\n",
    "# # # # # # # # # # # # # # # # # # # # # # # # # # # # # # \n",
    "# manual tweakings to output -- nLectures\n",
    "if yr==\"2099\":\n",
    "    df_output.loc[df_output.surname==\"Bini\", \"nLectures\"] = 2  # they're BINNNNNNI in the 1st lecture\n",
    "# # # # # # # # # # # # # # # # # # # # # # # # # # # # # # \n",
    "\n",
    "for i in range(len(attendees[yr])+1):\n",
    "    print(\"nr. of attenders to %d lectures = %d\" % (i, df_output[df_output.nLectures == i].shape[0]))"
   ]
  },
  {
   "cell_type": "markdown",
   "metadata": {},
   "source": [
    "**output file** list of attenders to 0 lectures"
   ]
  },
  {
   "cell_type": "code",
   "execution_count": 12,
   "metadata": {
    "jupyter": {
     "source_hidden": true
    },
    "tags": []
   },
   "outputs": [
    {
     "name": "stdout",
     "output_type": "stream",
     "text": [
      "list of attenders to 0 lectures written\n"
     ]
    }
   ],
   "source": [
    "if yr==\"2021\":\n",
    "    with open(\"./out_data/%s/attenders_zero_lectures.txt\" % yr, \"w+\") as f:\n",
    "        for i in df_output.index:\n",
    "            if df_output.nLectures[i]==0:\n",
    "                print(\"%4d,\" % i, df_output[\"surname\"][i]+\",\", df_output[\"firstName\"][i]+\",\", df_output[\"institution\"][i], file=f)\n",
    "else:\n",
    "    with open(\"./out_data/%s/attenders_zero_lectures.txt\" % yr, \"w+\") as f:\n",
    "        for i in df_output.index:\n",
    "            if df_output.nLectures[i]==0:\n",
    "                print(\"%4d,\" % i, df_output[\"surname\"][i]+\",\", df_output[\"firstName\"][i]+\",\", df_output[\"nickname\"][i]+\",\", df_output[\"institution_full\"][i], file=f)\n",
    "print(\"list of attenders to 0 lectures written\")"
   ]
  },
  {
   "cell_type": "markdown",
   "metadata": {},
   "source": [
    "**output file** number of lectures (and hours) attended per registered name (only those who attended to at least 1 lecture) &mdash; specific format for diplomas.ipynb"
   ]
  },
  {
   "cell_type": "code",
   "execution_count": 13,
   "metadata": {
    "tags": []
   },
   "outputs": [
    {
     "name": "stdout",
     "output_type": "stream",
     "text": [
      "final presence file written\n"
     ]
    }
   ],
   "source": [
    "nameMaxWidths = (df_output[\"surname\"].apply(lambda x : len(x)).max() + 1, df_output[\"surname\"].apply(lambda x : len(x)).max() + 2)\n",
    "with open(\"./out_data/%s/presences_total.txt\" % yr, \"w+\") as f:\n",
    "    for i in df_output.index:\n",
    "        if df_output[\"nLectures\"][i]>0:\n",
    "            print(\"%4d,\" % i, df_output[\"surname\"][i]+\",\", df_output[\"firstName\"][i]+\",\", df_output[\"institution\" if yr==\"2021\" else \"institution_full\"][i]+\",\", str(df_output[\"nLectures\"][i])+\",\", 2*df_output[\"nLectures\"][i], file=f)\n",
    "print(\"final presence file written\")"
   ]
  },
  {
   "cell_type": "code",
   "execution_count": null,
   "metadata": {
    "jupyter": {
     "source_hidden": true
    },
    "tags": []
   },
   "outputs": [],
   "source": []
  },
  {
   "cell_type": "code",
   "execution_count": null,
   "metadata": {
    "jupyter": {
     "source_hidden": true
    },
    "tags": []
   },
   "outputs": [],
   "source": []
  }
 ],
 "metadata": {
  "@webio": {
   "lastCommId": null,
   "lastKernelId": null
  },
  "kernelspec": {
   "display_name": "Python 3",
   "language": "python",
   "name": "python3"
  },
  "language_info": {
   "codemirror_mode": {
    "name": "ipython",
    "version": 3
   },
   "file_extension": ".py",
   "mimetype": "text/x-python",
   "name": "python",
   "nbconvert_exporter": "python",
   "pygments_lexer": "ipython3",
   "version": "3.9.12"
  }
 },
 "nbformat": 4,
 "nbformat_minor": 4
}
